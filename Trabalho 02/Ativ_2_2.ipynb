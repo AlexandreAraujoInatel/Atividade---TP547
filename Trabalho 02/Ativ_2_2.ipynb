{
  "nbformat": 4,
  "nbformat_minor": 0,
  "metadata": {
    "colab": {
      "provenance": []
    },
    "kernelspec": {
      "name": "python3",
      "display_name": "Python 3"
    },
    "language_info": {
      "name": "python"
    }
  },
  "cells": [
    {
      "cell_type": "code",
      "execution_count": null,
      "metadata": {
        "colab": {
          "base_uri": "https://localhost:8080/"
        },
        "id": "lCbdsgdu7KwP",
        "outputId": "8d342a6f-fc2f-4a4a-cd04-48a5cfbbfd18"
      },
      "outputs": [
        {
          "output_type": "stream",
          "name": "stdout",
          "text": [
            "A probabilidade de obter pelo menos um dado com seis ao lançar 5 dados é aproximadamente: 0.5989\n"
          ]
        }
      ],
      "source": [
        "import random\n",
        "\n",
        "def lancar_dados(quantidade_dados): # Esta função gera uma lista de resultados de lançamentos de dados, onde cada resultado é um número aleatório entre 1 e 6.\n",
        "    return [random.randint(1, 6) for _ in range(quantidade_dados)]\n",
        "\n",
        "def possui_seis(resultados): # Esta função verifica se pelo menos um dado na lista de resultados possui o valor seis.\n",
        "    return 6 in resultados\n",
        "\n",
        "def simular_lancamentos(quantidade_lancamentos, quantidade_dados): # Esta função simula uma série de lançamentos de dados e retorna a proporção de vezes em que pelo menos um dado mostra o valor seis.\n",
        "    lancamentos_com_seis = 0\n",
        "    for _ in range(quantidade_lancamentos):\n",
        "        resultados = lancar_dados(quantidade_dados)\n",
        "        if possui_seis(resultados):\n",
        "            lancamentos_com_seis += 1\n",
        "    return lancamentos_com_seis / quantidade_lancamentos\n",
        "\n",
        "def estimar_probabilidade(quantidade_lancamentos, quantidade_dados, rodadas): # Esta função estima a probabilidade de obter pelo menos um dado com valor seis ao lançar 5 dados. Ela realiza várias rodadas de simulação, cada uma com um grande número de lançamentos, e retorna a média das proporções de lançamentos que resultaram em pelo menos um seis.\n",
        "    probabilidade_total = 0\n",
        "    for _ in range(rodadas):\n",
        "        probabilidade_total += simular_lancamentos(quantidade_lancamentos, quantidade_dados)\n",
        "    return probabilidade_total / rodadas\n",
        "\n",
        "# Definição dos parâmetros\n",
        "quantidade_lancamentos = 100000  # Número de lançamentos em cada rodada.\n",
        "quantidade_dados = 5  # Número de dados lançados.\n",
        "rodadas = 10  # Número de rodadas de simulação.\n",
        "\n",
        "# Estimativa da probabilidade\n",
        "probabilidade = estimar_probabilidade(quantidade_lancamentos, quantidade_dados, rodadas) # Imprime o probabilidade estimada.\n",
        "print(f\"A probabilidade de obter pelo menos um dado com seis ao lançar 5 dados é aproximadamente: {probabilidade:.4f}\")\n"
      ]
    }
  ]
}