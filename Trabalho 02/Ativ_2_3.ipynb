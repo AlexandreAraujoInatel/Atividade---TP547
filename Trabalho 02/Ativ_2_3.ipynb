{
  "nbformat": 4,
  "nbformat_minor": 0,
  "metadata": {
    "colab": {
      "provenance": []
    },
    "kernelspec": {
      "name": "python3",
      "display_name": "Python 3"
    },
    "language_info": {
      "name": "python"
    }
  },
  "cells": [
    {
      "cell_type": "code",
      "execution_count": null,
      "metadata": {
        "colab": {
          "base_uri": "https://localhost:8080/"
        },
        "id": "waVdvMfo9HkK",
        "outputId": "2529cc21-b5c4-4aa4-9789-17132c0e18c6"
      },
      "outputs": [
        {
          "output_type": "stream",
          "name": "stdout",
          "text": [
            "Probabilidade de ganhar: 0.05401234567901234\n",
            "Expectativa de ganho ou perda por lançamento: -0.4058641975308642\n"
          ]
        }
      ],
      "source": [
        "def calcular_probabilidade(): # Calcular a probabilidade de cada possível soma e somar as probabilidades das somas menores que 9.\n",
        "    probabilidade = 0\n",
        "    for d1 in range(1, 7):\n",
        "        for d2 in range(1, 7):\n",
        "            for d3 in range(1, 7):\n",
        "                for d4 in range(1, 7):\n",
        "                    if d1 + d2 + d3 + d4 < 9:\n",
        "                        probabilidade += 1\n",
        "    return probabilidade / (6 ** 4)  # Total de resultados possíveis = 6^4\n",
        "\n",
        "def calcular_expectativa(probabilidade):\n",
        "    ganho_esperado = 10 * probabilidade  # Multiplicar a probabilidade de ganhar pelo ganho esperado (R$10)\n",
        "    perda_esperada = (1 - probabilidade) * 1  # probabilidade de perder pelo prejuízo esperado (R$1).\n",
        "    return ganho_esperado - perda_esperada # Diferença entre esses dois valores.\n",
        "\n",
        "probabilidade = calcular_probabilidade()\n",
        "expectativa = calcular_expectativa(probabilidade)\n",
        "\n",
        "print(\"Probabilidade de ganhar:\", probabilidade)\n",
        "print(\"Expectativa de ganho ou perda por lançamento:\", expectativa)\n"
      ]
    }
  ]
}