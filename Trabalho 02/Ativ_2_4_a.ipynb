{
  "nbformat": 4,
  "nbformat_minor": 0,
  "metadata": {
    "colab": {
      "provenance": []
    },
    "kernelspec": {
      "name": "python3",
      "display_name": "Python 3"
    },
    "language_info": {
      "name": "python"
    }
  },
  "cells": [
    {
      "cell_type": "code",
      "execution_count": null,
      "metadata": {
        "colab": {
          "base_uri": "https://localhost:8080/"
        },
        "id": "8S_nHQBI_OwG",
        "outputId": "efd96442-9f9b-4bb6-87fb-5fbe6dbd1108"
      },
      "outputs": [
        {
          "output_type": "stream",
          "name": "stdout",
          "text": [
            "Estimativa da integral pelo método de Monte Carlo: 0.5894603802105267\n"
          ]
        }
      ],
      "source": [
        "import random\n",
        "\n",
        "def f(x):\n",
        "    return (1 - x**2)**(3/2)\n",
        "\n",
        "def monte_carlo_integration(N):\n",
        "    sum_fx = 0\n",
        "    for _ in range(N):\n",
        "        x = random.uniform(0, 1)\n",
        "        sum_fx += f(x)\n",
        "    return sum_fx / N\n",
        "\n",
        "N = 1000000  # Número de pontos aleatórios\n",
        "integral_monte_carlo = monte_carlo_integration(N)\n",
        "print(\"Estimativa da integral pelo método de Monte Carlo:\", integral_monte_carlo)\n"
      ]
    },
    {
      "cell_type": "code",
      "source": [
        "def g(x):\n",
        "    return 1 - x**2\n",
        "\n",
        "def importance_sampling_integration(N):\n",
        "    sum_fg = 0\n",
        "    for _ in range(N):\n",
        "        x = random.uniform(0, 1)\n",
        "        sum_fg += f(x) / g(x)\n",
        "    return sum_fg / N\n",
        "\n",
        "integral_importance_sampling = importance_sampling_integration(N)\n",
        "print(\"Estimativa da integral pelo método de Integração por Importância:\", integral_importance_sampling)\n"
      ],
      "metadata": {
        "colab": {
          "base_uri": "https://localhost:8080/"
        },
        "id": "3MqhsEeg_f1D",
        "outputId": "70faedc9-a87a-437b-a237-b7d06662e0f4"
      },
      "execution_count": null,
      "outputs": [
        {
          "output_type": "stream",
          "name": "stdout",
          "text": [
            "Estimativa da integral pelo método de Integração por Importância: 0.7854189731897531\n"
          ]
        }
      ]
    }
  ]
}