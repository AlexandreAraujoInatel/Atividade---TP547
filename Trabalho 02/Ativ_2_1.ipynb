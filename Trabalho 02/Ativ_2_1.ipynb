{
  "nbformat": 4,
  "nbformat_minor": 0,
  "metadata": {
    "colab": {
      "provenance": []
    },
    "kernelspec": {
      "name": "python3",
      "display_name": "Python 3"
    },
    "language_info": {
      "name": "python"
    }
  },
  "cells": [
    {
      "cell_type": "code",
      "source": [
        "import torch\n",
        "import torch.nn as nn\n",
        "import torch.optim as optim\n",
        "import numpy as np"
      ],
      "metadata": {
        "id": "VD5zdwQ20FbA"
      },
      "execution_count": null,
      "outputs": []
    },
    {
      "cell_type": "code",
      "execution_count": null,
      "metadata": {
        "id": "5NV5A_EVzsAc",
        "colab": {
          "base_uri": "https://localhost:8080/"
        },
        "outputId": "be87ad94-1d7a-4ef4-bcbe-f62f35807667"
      },
      "outputs": [
        {
          "output_type": "stream",
          "name": "stdout",
          "text": [
            "Probabilidade sem reposição: 6.163385024735238e-11\n",
            "Probabilidade com reposição: 0.00390625\n"
          ]
        }
      ],
      "source": [
        "# Definição das Funções:\n",
        "\n",
        "# Função para calcular o coeficiente binomial (combinação)\n",
        "def coeficiente_binomial(n, k): # Esta função calcula o coeficiente binomial, que é o número de combinações de n itens tomados k de cada vez.\n",
        "    if k == 0 or k == n:\n",
        "        return 1\n",
        "    return coeficiente_binomial(n-1, k-1) + coeficiente_binomial(n-1, k)\n",
        "\n",
        "# Função para calcular a probabilidade sem reposição\n",
        "def probabilidade_sem_reposicao(total_bolas, bolas_azuis, bolas_roxas, retiradas): # Esta função calcula a probabilidade de tirar 2 bolas azuis e 2 bolas roxas em 10 retiradas sem reposição.\n",
        "    total_combinacoes = coeficiente_binomial(total_bolas, retiradas) # Calcula o número total de combinações de tirar 10 bolas de 40 sem reposição.\n",
        "    combinacoes_azuis = coeficiente_binomial(bolas_azuis, 2) # Calcula o número de combinações de tirar 2 bolas azuis de 10.\n",
        "    combinacoes_roxas = coeficiente_binomial(bolas_roxas, 2) # Calcula o número de combinações de tirar 2 bolas roxas de 10.\n",
        "    combinacoes_restantes = coeficiente_binomial(total_bolas - bolas_azuis - bolas_roxas, retiradas - 4) # Calcula o número de combinações de 6 bolas das restantes 20 bolas.\n",
        "\n",
        "    probabilidade = (combinacoes_azuis * combinacoes_roxas) / (total_combinacoes * combinacoes_restantes) # Divide o número de combinações favoráveis pelo número total de combinações para obter a probabilidade.\n",
        "    return probabilidade\n",
        "\n",
        "# Função para calcular a probabilidade com reposição\n",
        "def probabilidade_com_reposicao(bolas_azuis, bolas_roxas, retiradas): # Esta função calcula a probabilidade de tirar 2 bolas azuis e 2 bolas roxas em 10 retiradas com reposição.\n",
        "    probabilidade_azul = bolas_azuis / total_bolas # Calcula a probabilidade de tirar uma bola azul em uma única retirada (considerando que as bolas são repostas após cada retirada).\n",
        "    probabilidade_roxa = bolas_roxas / total_bolas # Calcula a probabilidade de tirar uma bola roxa em uma única retirada (considerando que as bolas são repostas após cada retirada).\n",
        "\n",
        "    probabilidade = (probabilidade_azul ** 2) * (probabilidade_roxa ** 2) # Eleva essa probabilidade ao quadrado para representar 2 bolas azuis e ao quadrado novamente para representar 2 bolas roxas em 10 retiradas.\n",
        "    return probabilidade\n",
        "\n",
        "# Definindo os parâmetros\n",
        "total_bolas = 40 # Define o número total de bolas.\n",
        "bolas_azuis = 10 # Número de bolas azuis.\n",
        "bolas_roxas = 10 # Número de bolas roxas.\n",
        "retiradas = 10 # Número de retiradas.\n",
        "\n",
        "# Calculando e imprimindo as probabilidades\n",
        "print(\"Probabilidade sem reposição:\", probabilidade_sem_reposicao(total_bolas, bolas_azuis, bolas_roxas, retiradas)) # Imprime as probabilidade sem reposição\n",
        "print(\"Probabilidade com reposição:\", probabilidade_com_reposicao(bolas_azuis, bolas_roxas, retiradas)) # Imprime as probabilidade com reposição.\n"
      ]
    }
  ]
}