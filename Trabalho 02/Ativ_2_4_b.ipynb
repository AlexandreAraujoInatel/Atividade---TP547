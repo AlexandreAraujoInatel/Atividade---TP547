{
  "nbformat": 4,
  "nbformat_minor": 0,
  "metadata": {
    "colab": {
      "provenance": []
    },
    "kernelspec": {
      "name": "python3",
      "display_name": "Python 3"
    },
    "language_info": {
      "name": "python"
    }
  },
  "cells": [
    {
      "cell_type": "code",
      "execution_count": null,
      "metadata": {
        "colab": {
          "base_uri": "https://localhost:8080/"
        },
        "id": "XWg9cM2BAfve",
        "outputId": "1283e99f-cede-473d-a39f-5d40b4f9fe35"
      },
      "outputs": [
        {
          "output_type": "stream",
          "name": "stdout",
          "text": [
            "Estimativa da integral pelo método de Monte Carlo: 92.93034511425452\n"
          ]
        }
      ],
      "source": [
        "import random\n",
        "import math\n",
        "\n",
        "def f(x):\n",
        "    return math.exp(x + x**2)\n",
        "\n",
        "def monte_carlo_integration(N):\n",
        "    sum_fx = 0\n",
        "    for _ in range(N):\n",
        "        x = random.uniform(-2, 2)\n",
        "        sum_fx += f(x)\n",
        "    return sum_fx / N * 4  # Largura da região de integração é 4\n",
        "\n",
        "N = 1000000  # Número de pontos aleatórios\n",
        "integral_monte_carlo = monte_carlo_integration(N)\n",
        "print(\"Estimativa da integral pelo método de Monte Carlo:\", integral_monte_carlo)\n"
      ]
    },
    {
      "cell_type": "code",
      "source": [
        "import random\n",
        "import math\n",
        "\n",
        "def f(x):\n",
        "    return math.exp(x + x**2)\n",
        "\n",
        "def g(x):\n",
        "    # Função de importância (distribuição normal centrada em torno do ponto de máximo de f(x))\n",
        "    mu = -0.5  # Aproximadamente o ponto de máximo de f(x)\n",
        "    sigma = 1  # Desvio padrão\n",
        "    return 1 / (sigma * math.sqrt(2 * math.pi)) * math.exp(-((x - mu)**2) / (2 * sigma**2))\n",
        "\n",
        "def importance_sampling_integration(N):\n",
        "    sum_fg = 0\n",
        "    for _ in range(N):\n",
        "        x = random.gauss(-0.5, 1)  # Geração de pontos aleatórios de acordo com a distribuição normal g(x)\n",
        "        sum_fg += f(x) / g(x)\n",
        "    return sum_fg / N * 4  # Largura da região de integração é 4\n",
        "\n",
        "integral_importance_sampling = importance_sampling_integration(N)\n",
        "print(\"Estimativa da integral pelo método de Integração por Importância:\", integral_importance_sampling)\n"
      ],
      "metadata": {
        "colab": {
          "base_uri": "https://localhost:8080/"
        },
        "id": "G56dlsQ8A8u3",
        "outputId": "1542803d-2968-4a29-db5e-2d7969bd036d"
      },
      "execution_count": null,
      "outputs": [
        {
          "output_type": "stream",
          "name": "stdout",
          "text": [
            "Estimativa da integral pelo método de Integração por Importância: 189769926833.57358\n"
          ]
        }
      ]
    }
  ]
}