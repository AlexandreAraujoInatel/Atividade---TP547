{
  "nbformat": 4,
  "nbformat_minor": 0,
  "metadata": {
    "colab": {
      "provenance": []
    },
    "kernelspec": {
      "name": "python3",
      "display_name": "Python 3"
    },
    "language_info": {
      "name": "python"
    }
  },
  "cells": [
    {
      "cell_type": "code",
      "execution_count": null,
      "metadata": {
        "colab": {
          "base_uri": "https://localhost:8080/"
        },
        "id": "nub0yj41CXBp",
        "outputId": "32efcc3b-5ddd-4ebe-bebf-add06dbf1109"
      },
      "outputs": [
        {
          "output_type": "stream",
          "name": "stdout",
          "text": [
            "Estimativa da integral pelo método de Monte Carlo: 0.18918433700036158\n"
          ]
        }
      ],
      "source": [
        "import random\n",
        "\n",
        "def f(x):\n",
        "    return x / (1 + x**2)**2\n",
        "\n",
        "def monte_carlo_integration(N):\n",
        "    sum_fx = 0\n",
        "    for _ in range(N):\n",
        "        x = random.expovariate(1)  # Geração de pontos aleatórios de acordo com uma distribuição exponencial\n",
        "        sum_fx += f(x)\n",
        "    return sum_fx / N\n",
        "\n",
        "N = 1000000  # Número de pontos aleatórios\n",
        "integral_monte_carlo = monte_carlo_integration(N)\n",
        "print(\"Estimativa da integral pelo método de Monte Carlo:\", integral_monte_carlo)\n"
      ]
    },
    {
      "cell_type": "code",
      "source": [
        "import random\n",
        "import math\n",
        "\n",
        "def f(x):\n",
        "    return x / (1 + x**2)**2\n",
        "\n",
        "def g(x):\n",
        "    return math.exp(-x)\n",
        "\n",
        "def importance_sampling_integration(N):\n",
        "    sum_fg = 0\n",
        "    for _ in range(N):\n",
        "        x = random.expovariate(1)  # Geração de pontos aleatórios de acordo com uma distribuição exponencial\n",
        "        sum_fg += f(x) / g(x)\n",
        "    return sum_fg / N\n",
        "\n",
        "integral_importance_sampling = importance_sampling_integration(N)\n",
        "print(\"Estimativa da integral pelo método de Integração por Importância:\", integral_importance_sampling)\n"
      ],
      "metadata": {
        "colab": {
          "base_uri": "https://localhost:8080/"
        },
        "id": "EA3wwhu2CjyC",
        "outputId": "34db739a-254d-4183-f822-a11ee0ac4182"
      },
      "execution_count": null,
      "outputs": [
        {
          "output_type": "stream",
          "name": "stdout",
          "text": [
            "Estimativa da integral pelo método de Integração por Importância: 0.49704332208336377\n"
          ]
        }
      ]
    }
  ]
}