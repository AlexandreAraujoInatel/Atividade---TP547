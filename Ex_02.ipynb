{
  "nbformat": 4,
  "nbformat_minor": 0,
  "metadata": {
    "colab": {
      "provenance": []
    },
    "kernelspec": {
      "name": "python3",
      "display_name": "Python 3"
    },
    "language_info": {
      "name": "python"
    }
  },
  "cells": [
    {
      "cell_type": "code",
      "execution_count": null,
      "metadata": {
        "id": "UinCIGjWhQy3",
        "colab": {
          "base_uri": "https://localhost:8080/"
        },
        "outputId": "69f82cfd-84dc-4c68-92db-4ef7ab4fab08"
      },
      "outputs": [
        {
          "output_type": "stream",
          "name": "stdout",
          "text": [
            "Requirement already satisfied: numpy in /usr/local/lib/python3.10/dist-packages (1.25.2)\n"
          ]
        }
      ],
      "source": [
        "!pip install numpy"
      ]
    },
    {
      "cell_type": "code",
      "source": [
        "import numpy as np\n",
        "\n",
        "lambda1=6 #Número médio de requisições\n",
        "N=60 #Numero de amostras\n",
        "value=0\n",
        "count=0\n",
        "av=np.array([])\n",
        "x=np.random.uniform(0,1,N)\n",
        "for ix in x:\n",
        "    i = 0\n",
        "    pr = np.exp(-lambda1)\n",
        "    F=pr\n",
        "    while ix>=F:\n",
        "        pr=lambda1/(i+1)*pr\n",
        "        F = F + pr\n",
        "        i = i + 1;\n",
        "    a1=i\n",
        "    av=np.append(av,a1)\n",
        "\n",
        "Pr0 = np.exp(-lambda1)\n",
        "\n",
        "# Variância de C\n",
        "variance_C = lambda1\n",
        "# Desvio padrão de C\n",
        "std_dev_C = np.sqrt(variance_C)\n",
        "\n",
        "for binvalue in av:\n",
        "    if binvalue>=value:\n",
        "        count=count+1\n",
        "prob=count/N\n",
        "Pro= Pr0*100\n",
        "\n",
        "print(\"a) A probabilidade de não receber chamada é ≈\",Pr0,\"ou\",Pro*100,\"%\")\n",
        "print(\"b) A probabilidade do suporte receber menos de oito chamadas é ≈\",prob)\n",
        "print(\"c) Média de chamada por hora é:\",variance_C)\n",
        "print(\"d) A variância de C é:\",variance_C)\n",
        "print(\"e) O desvio padrão de C é:\", std_dev_C)"
      ],
      "metadata": {
        "id": "cVTRKAQChRyg",
        "colab": {
          "base_uri": "https://localhost:8080/"
        },
        "outputId": "e79fdc95-2cfe-47cd-af9c-a8e61ff434d1"
      },
      "execution_count": null,
      "outputs": [
        {
          "output_type": "stream",
          "name": "stdout",
          "text": [
            "a) A probabilidade de não receber chamada é ≈ 0.0024787521766663585 ou 24.787521766663584 %\n",
            "b) A probabilidade do suporte receber menos de oito chamadas é ≈ 1.0\n",
            "c) Média de chamada por hora é: 6\n",
            "d) A variância de C é: 6\n",
            "e) O desvio padrão de C é: 2.449489742783178\n"
          ]
        }
      ]
    }
  ]
}