{
  "nbformat": 4,
  "nbformat_minor": 0,
  "metadata": {
    "colab": {
      "provenance": []
    },
    "kernelspec": {
      "name": "python3",
      "display_name": "Python 3"
    },
    "language_info": {
      "name": "python"
    }
  },
  "cells": [
    {
      "cell_type": "markdown",
      "source": [
        "1 - Carros entram em uma fila de pedágio de acordo com um processo de Poisson de taxa 3 carros a cada cinco minutos, o tempo de atendimento segue uma variável exponencial de média 1/μ = 1 minuto.\n",
        "\n",
        "a) Qual é o tempo médio dos carros no sistema?\n",
        "\n",
        "b) Qual é o número médio de carros na fila?"
      ],
      "metadata": {
        "id": "FE_Fmv2IjoI1"
      }
    },
    {
      "cell_type": "code",
      "execution_count": 2,
      "metadata": {
        "colab": {
          "base_uri": "https://localhost:8080/"
        },
        "id": "XdhoOLAZjQ0X",
        "outputId": "849c75b2-b21f-4d2d-a270-5f23e3002b98"
      },
      "outputs": [
        {
          "output_type": "stream",
          "name": "stdout",
          "text": [
            "a) Tempo médio dos carros no sistema: 2.50 minutos\n",
            "b) Número médio de carros na fila: 0.90 carros\n"
          ]
        }
      ],
      "source": [
        "def calcular_tempo_medio_no_sistema(lambda_taxa, mu_taxa):\n",
        "    W = 1 / (mu_taxa - lambda_taxa)\n",
        "    return W\n",
        "\n",
        "def calcular_numero_medio_na_fila(lambda_taxa, mu_taxa):\n",
        "    L_q = (lambda_taxa**2) / (mu_taxa * (mu_taxa - lambda_taxa))\n",
        "    return L_q\n",
        "\n",
        "# Taxa de chegada (carros por minuto)\n",
        "lambda_taxa = 3 / 5\n",
        "\n",
        "# Taxa de serviço (carros por minuto)\n",
        "mu_taxa = 1\n",
        "\n",
        "# Calcular tempo médio no sistema\n",
        "tempo_medio_no_sistema = calcular_tempo_medio_no_sistema(lambda_taxa, mu_taxa)\n",
        "print(f\"a) Tempo médio dos carros no sistema: {tempo_medio_no_sistema:.2f} minutos\")\n",
        "\n",
        "# Calcular número médio de carros na fila\n",
        "numero_medio_na_fila = calcular_numero_medio_na_fila(lambda_taxa, mu_taxa)\n",
        "print(f\"b) Número médio de carros na fila: {numero_medio_na_fila:.2f} carros\")\n"
      ]
    },
    {
      "cell_type": "markdown",
      "source": [
        "2 - Um comutador de pacotes possui uma linha de saída e recebe, em média, 40 pacotes por segundo. Cada pacote tem, em média, 5.000 bits de comprimento, com distribuição exponencial. A linha de saída do comutador tem taxa de 500 kbps.\n",
        "\n",
        "a) Qual é o tempo médio de permanência de um pacote no comutador (esperando na fila e sendo transmitido)?\n",
        "\n",
        "b) Qual é o tempo médio de espera na fila?"
      ],
      "metadata": {
        "id": "sphfD91Bj711"
      }
    },
    {
      "cell_type": "code",
      "source": [
        "def calcular_tempo_medio_no_sistema(lambda_taxa, mu_taxa):\n",
        "    W = 1 / (mu_taxa - lambda_taxa)\n",
        "    return W\n",
        "\n",
        "def calcular_tempo_medio_na_fila(lambda_taxa, mu_taxa):\n",
        "    W_q = lambda_taxa / (mu_taxa * (mu_taxa - lambda_taxa))\n",
        "    return W_q\n",
        "\n",
        "# Taxa de chegada (pacotes por segundo)\n",
        "lambda_taxa = 40\n",
        "\n",
        "# Taxa de serviço (pacotes por segundo)\n",
        "mu_taxa = 100\n",
        "\n",
        "# Calcular tempo médio no sistema\n",
        "tempo_medio_no_sistema = calcular_tempo_medio_no_sistema(lambda_taxa, mu_taxa)\n",
        "print(f\"a) Tempo médio de permanência de um pacote no comutador: {tempo_medio_no_sistema:.4f} segundos\")\n",
        "\n",
        "# Calcular tempo médio na fila\n",
        "tempo_medio_na_fila = calcular_tempo_medio_na_fila(lambda_taxa, mu_taxa)\n",
        "print(f\"b) Tempo médio de espera na fila: {tempo_medio_na_fila:.4f} segundos\")\n"
      ],
      "metadata": {
        "colab": {
          "base_uri": "https://localhost:8080/"
        },
        "id": "cbjio4hFkM0m",
        "outputId": "bfc85301-cffe-4a86-fe54-866547c1a02e"
      },
      "execution_count": 3,
      "outputs": [
        {
          "output_type": "stream",
          "name": "stdout",
          "text": [
            "a) Tempo médio de permanência de um pacote no comutador: 0.0167 segundos\n",
            "b) Tempo médio de espera na fila: 0.0067 segundos\n"
          ]
        }
      ]
    },
    {
      "cell_type": "markdown",
      "source": [
        "3 - Um comutador de pacotes recebe em média 200 pacotes/segundo, cada um com um comprimento médio de 128 bytes. O comutador possui uma única linha de saída com capacidade de 256 kbps. Considere um buffer com {1,5,10,15} posições na fila, qual a probabilidade de bloqueio, número médio de elementos e tempo médio no sistema?"
      ],
      "metadata": {
        "id": "UHYPVJk8ltg1"
      }
    },
    {
      "cell_type": "code",
      "source": [
        "def calcular_probabilidade_bloqueio(lambda_taxa, mu_taxa, K):\n",
        "    rho = lambda_taxa / mu_taxa\n",
        "    if rho == 1:\n",
        "        P_K = 1 / (K + 1)\n",
        "    else:\n",
        "        P_K = (rho ** K) * ((1 - rho) / (1 - rho ** (K + 1)))\n",
        "    return P_K\n",
        "\n",
        "def calcular_numero_medio_elementos(lambda_taxa, mu_taxa, K):\n",
        "    rho = lambda_taxa / mu_taxa\n",
        "    if rho == 1:\n",
        "        L = K / 2\n",
        "    else:\n",
        "        L = (rho * (1 - (K + 1) * rho ** K + K * rho ** (K + 1))) / ((1 - rho) * (1 - rho ** (K + 1)))\n",
        "    return L\n",
        "\n",
        "def calcular_tempo_medio_no_sistema(L, lambda_taxa, P_K):\n",
        "    W = L / (lambda_taxa * (1 - P_K))\n",
        "    return W\n",
        "\n",
        "# Taxa de chegada (pacotes por segundo)\n",
        "lambda_taxa = 200\n",
        "\n",
        "# Taxa de serviço (pacotes por segundo)\n",
        "mu_taxa = 250\n",
        "\n",
        "# Valores de K\n",
        "K_values = [1, 5, 10, 15]\n",
        "\n",
        "# Cabeçalho da tabela\n",
        "print(f\"{'K':<5} {'Probabilidade de Bloqueio':<25} {'Número Médio de Elementos':<30} {'Tempo Médio no Sistema (s)':<30}\")\n",
        "\n",
        "# Calcular e exibir os resultados para cada valor de K\n",
        "for K in K_values:\n",
        "    P_K = calcular_probabilidade_bloqueio(lambda_taxa, mu_taxa, K)\n",
        "    L = calcular_numero_medio_elementos(lambda_taxa, mu_taxa, K)\n",
        "    W = calcular_tempo_medio_no_sistema(L, lambda_taxa, P_K)\n",
        "\n",
        "    print(f\"{K:<5} {P_K:<25.4f} {L:<30.4f} {W:<30.4f}\")\n"
      ],
      "metadata": {
        "colab": {
          "base_uri": "https://localhost:8080/"
        },
        "id": "LpR8j9Npp0Px",
        "outputId": "2195a829-9ae3-45e0-badb-b5ba39867397"
      },
      "execution_count": 4,
      "outputs": [
        {
          "output_type": "stream",
          "name": "stdout",
          "text": [
            "K     Probabilidade de Bloqueio Número Médio de Elementos      Tempo Médio no Sistema (s)    \n",
            "1     0.4444                    0.4444                         0.0040                        \n",
            "5     0.0888                    1.8683                         0.0103                        \n",
            "10    0.0235                    2.9663                         0.0152                        \n",
            "15    0.0072                    3.5366                         0.0178                        \n"
          ]
        }
      ]
    },
    {
      "cell_type": "markdown",
      "source": [
        "4 - Um nó de uma rede de computadores possui buffer infinito. A chegada das mensagens é Poissoniana com taxa 1 mensagem/segundo e o tamanho médio das mensagens é igual a 2.000 bits. A capacidade do meio de transmissão é de 10.000 bps. Determine o tempo médio que uma mensagem permanece no nó (espera + serviço) supondo que o comprimento das mensagens:\n",
        "\n",
        "a) é constante.\n",
        "\n",
        "b) tem distribuição exponencial."
      ],
      "metadata": {
        "id": "Mye1ncNeqkSD"
      }
    },
    {
      "cell_type": "code",
      "source": [
        "# Dados do problema\n",
        "lambda_taxa = 1  # mensagens por segundo\n",
        "tamanho_medio_mensagem = 2000  # bits\n",
        "capacidade_transmissao = 10000  # bits por segundo\n",
        "\n",
        "# Taxa de serviço\n",
        "mu = capacidade_transmissao / tamanho_medio_mensagem  # mensagens por segundo\n",
        "\n",
        "# Tempo médio no sistema para M/D/1\n",
        "W_MD1 = (1 / mu) + (lambda_taxa / (2 * mu * (mu - lambda_taxa)))\n",
        "print(f\"a) Tempo médio no sistema para M/D/1: {W_MD1:.4f} segundos\")\n",
        "\n",
        "# Tempo médio no sistema para M/M/1\n",
        "W_MM1 = 1 / (mu - lambda_taxa)\n",
        "print(f\"b) Tempo médio no sistema para M/M/1: {W_MM1:.4f} segundos\")\n"
      ],
      "metadata": {
        "colab": {
          "base_uri": "https://localhost:8080/"
        },
        "id": "cwVLArLhqvKx",
        "outputId": "f94b13fd-7dfb-43c3-d5be-d454dade6585"
      },
      "execution_count": 5,
      "outputs": [
        {
          "output_type": "stream",
          "name": "stdout",
          "text": [
            "a) Tempo médio no sistema para M/D/1: 0.2250 segundos\n",
            "b) Tempo médio no sistema para M/M/1: 0.2500 segundos\n"
          ]
        }
      ]
    }
  ]
}