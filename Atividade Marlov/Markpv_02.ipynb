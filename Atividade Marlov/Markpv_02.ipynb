{
  "nbformat": 4,
  "nbformat_minor": 0,
  "metadata": {
    "colab": {
      "provenance": []
    },
    "kernelspec": {
      "name": "python3",
      "display_name": "Python 3"
    },
    "language_info": {
      "name": "python"
    }
  },
  "cells": [
    {
      "cell_type": "code",
      "execution_count": 13,
      "metadata": {
        "id": "VljqXcYA4EWS"
      },
      "outputs": [],
      "source": [
        "import numpy as np\n"
      ]
    },
    {
      "cell_type": "code",
      "source": [
        "P = np.array([\n",
        "    [1.0, 0.0, 0.0, 0.0],\n",
        "    [0.3, 0.4, 0.3, 0.0],\n",
        "    [0.0, 0.3, 0.4, 0.3],\n",
        "    [0.0, 0.0, 0.0, 1.0]\n",
        "])\n"
      ],
      "metadata": {
        "id": "bYtDKnXyIwDE"
      },
      "execution_count": 14,
      "outputs": []
    },
    {
      "cell_type": "code",
      "source": [
        "P_3 = np.linalg.matrix_power(P, 3)\n",
        "prob_absorbed_third_minute = P_3[1, 0] + P_3[1, 3]\n",
        "print(f\"Probabilidade de absorção no terceiro minuto: {prob_absorbed_third_minute}\")\n"
      ],
      "metadata": {
        "colab": {
          "base_uri": "https://localhost:8080/"
        },
        "id": "7n6hwhpOI30E",
        "outputId": "43e30a82-556e-4b8a-e80e-0800a203d566"
      },
      "execution_count": 15,
      "outputs": [
        {
          "output_type": "stream",
          "name": "stdout",
          "text": [
            "Probabilidade de absorção no terceiro minuto: 0.657\n"
          ]
        }
      ]
    },
    {
      "cell_type": "code",
      "source": [
        "Q = P[1:3, 1:3]\n",
        "I = np.eye(Q.shape[0])\n",
        "N = np.linalg.inv(I - Q)\n",
        "mean_steps_to_absorption = N.sum(axis=1)\n",
        "print(f\"Número médio de passos para a absorção a partir do estado 1: {mean_steps_to_absorption[0]}\")\n",
        "print(f\"Número médio de passos para a absorção a partir do estado 2: {mean_steps_to_absorption[1]}\")\n"
      ],
      "metadata": {
        "colab": {
          "base_uri": "https://localhost:8080/"
        },
        "id": "-RxoolSsI65s",
        "outputId": "107d0b85-bc58-43d4-9c2b-5cf3fa071d62"
      },
      "execution_count": 16,
      "outputs": [
        {
          "output_type": "stream",
          "name": "stdout",
          "text": [
            "Número médio de passos para a absorção a partir do estado 1: 3.3333333333333335\n",
            "Número médio de passos para a absorção a partir do estado 2: 3.3333333333333335\n"
          ]
        }
      ]
    },
    {
      "cell_type": "code",
      "source": [
        "R = P[1:3, [0, 3]]\n",
        "B = np.dot(N, R)\n",
        "print(f\"Probabilidade de absorção a partir do estado 1 no compartimento 0: {B[0, 0]}\")\n",
        "print(f\"Probabilidade de absorção a partir do estado 1 no compartimento 3: {B[0, 1]}\")\n",
        "print(f\"Probabilidade de absorção a partir do estado 2 no compartimento 0: {B[1, 0]}\")\n",
        "print(f\"Probabilidade de absorção a partir do estado 2 no compartimento 3: {B[1, 1]}\")\n"
      ],
      "metadata": {
        "colab": {
          "base_uri": "https://localhost:8080/"
        },
        "id": "l3T2G0_6JBbG",
        "outputId": "3152a991-4dcb-4e75-d457-1caad3fa1893"
      },
      "execution_count": 17,
      "outputs": [
        {
          "output_type": "stream",
          "name": "stdout",
          "text": [
            "Probabilidade de absorção a partir do estado 1 no compartimento 0: 0.6666666666666666\n",
            "Probabilidade de absorção a partir do estado 1 no compartimento 3: 0.3333333333333333\n",
            "Probabilidade de absorção a partir do estado 2 no compartimento 0: 0.3333333333333333\n",
            "Probabilidade de absorção a partir do estado 2 no compartimento 3: 0.6666666666666666\n"
          ]
        }
      ]
    }
  ]
}