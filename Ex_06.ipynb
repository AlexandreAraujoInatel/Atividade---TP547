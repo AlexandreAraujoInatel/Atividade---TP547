{
  "nbformat": 4,
  "nbformat_minor": 0,
  "metadata": {
    "colab": {
      "provenance": []
    },
    "kernelspec": {
      "name": "python3",
      "display_name": "Python 3"
    },
    "language_info": {
      "name": "python"
    }
  },
  "cells": [
    {
      "cell_type": "code",
      "source": [
        "import numpy as np"
      ],
      "metadata": {
        "id": "eXG0N6HT4zay"
      },
      "execution_count": 1,
      "outputs": []
    },
    {
      "cell_type": "code",
      "execution_count": 3,
      "metadata": {
        "colab": {
          "base_uri": "https://localhost:8080/"
        },
        "id": "DoqRb8SV4vk_",
        "outputId": "5daa7fae-881e-4c78-be66-e53352f24953"
      },
      "outputs": [
        {
          "output_type": "stream",
          "name": "stdout",
          "text": [
            "Probabilidade de que a 6ª bola retirada com reposição seja a primeira bola preta: 0.0316\n"
          ]
        }
      ],
      "source": [
        "def generate_geometric_variable(p, num_samples):\n",
        "    u = np.random.rand(num_samples)\n",
        "    x = np.ceil(np.log(1 - u) / np.log(1 - p))\n",
        "    return x.astype(int)\n",
        "\n",
        "# Probabilidade de sucesso\n",
        "p = 20 / (30 + 20)  # Probabilidade de retirar uma bola preta\n",
        "\n",
        "# Simulação para calcular a probabilidade de que a 6ª bola retirada com reposição seja a primeira bola preta\n",
        "num_simulations = 10000\n",
        "\n",
        "# Gera as variáveis aleatórias geométricas\n",
        "geometric_variables = generate_geometric_variable(p, num_simulations)\n",
        "\n",
        "# Calcula a probabilidade de que a 6ª bola retirada com reposição seja a primeira bola preta\n",
        "count_success = np.sum(geometric_variables == 6)\n",
        "probability = count_success / num_simulations\n",
        "\n",
        "print(\"Probabilidade de que a 6ª bola retirada com reposição seja a primeira bola preta:\", probability)\n"
      ]
    }
  ]
}